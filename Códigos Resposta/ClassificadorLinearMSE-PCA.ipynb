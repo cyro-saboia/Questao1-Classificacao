{
 "cells": [
  {
   "cell_type": "code",
   "execution_count": 25,
   "id": "4aeff468-3d30-4b63-95bf-9d431ad6abdb",
   "metadata": {},
   "outputs": [],
   "source": [
    "import numpy as np\n",
    "from sklearn.decomposition import PCA\n",
    "from sklearn.linear_model import LinearRegression\n",
    "from sklearn.multiclass import OneVsRestClassifier\n",
    "from sklearn.metrics import accuracy_score"
   ]
  },
  {
   "cell_type": "code",
   "execution_count": 14,
   "id": "0b2d1338-f02e-4703-a4d1-184cbe60edb7",
   "metadata": {},
   "outputs": [],
   "source": [
    "# Função para carregar o conjunto de dados MNIST\n",
    "def load_mnist(image_file, label_file):\n",
    "    with open(label_file, 'rb') as lbpath:\n",
    "        lbpath.read(8)\n",
    "        labels = np.frombuffer(lbpath.read(), dtype=np.uint8)\n",
    "\n",
    "    with open(image_file, 'rb') as imgpath:\n",
    "        imgpath.read(16)\n",
    "        images = np.frombuffer(imgpath.read(), dtype=np.uint8).reshape(len(labels), 784)\n",
    "\n",
    "    return images, labels"
   ]
  },
  {
   "cell_type": "code",
   "execution_count": 15,
   "id": "851b8a03-f5b9-4b51-ba5b-108b2d9f890e",
   "metadata": {},
   "outputs": [],
   "source": [
    "# one hot\n",
    "def one_hot_convert(vec):\n",
    "    matrix = []\n",
    "    for idx in vec:\n",
    "      m = np.zeros((10, 1))\n",
    "      m[idx] = 1\n",
    "      matrix.append(m)\n",
    "    return np.array(matrix)"
   ]
  },
  {
   "cell_type": "code",
   "execution_count": 16,
   "id": "750ba6ab-2893-490a-93d8-9a5c51acbdf8",
   "metadata": {},
   "outputs": [
    {
     "name": "stdout",
     "output_type": "stream",
     "text": [
      "ORIGINAL\n",
      "train_images (60000, 784)\n",
      "train_labels (60000,)\n",
      "test_images (10000, 784)\n",
      "test_labels (10000,)\n"
     ]
    }
   ],
   "source": [
    "# LEITURA DOS DADOS\n",
    "train_images, train_labels = load_mnist('dataset/train-images.idx3-ubyte', 'dataset/train-labels.idx1-ubyte')\n",
    "test_images, test_labels = load_mnist('dataset/t10k-images.idx3-ubyte', 'dataset/t10k-labels.idx1-ubyte')\n",
    "\n",
    "print('ORIGINAL')\n",
    "print('train_images',train_images.shape)\n",
    "print('train_labels',train_labels.shape)\n",
    "print('test_images',test_images.shape)\n",
    "print('test_labels',test_labels.shape)"
   ]
  },
  {
   "cell_type": "code",
   "execution_count": 17,
   "id": "fd7c064c-b334-421d-bc89-0b539eaf2d69",
   "metadata": {},
   "outputs": [
    {
     "name": "stdout",
     "output_type": "stream",
     "text": [
      "(60000, 785) (60000, 10)\n",
      "(10000, 785) (10000, 1)\n"
     ]
    }
   ],
   "source": [
    "# Transformar as imagens em vetores e normalizá-las\n",
    "X_train = train_images.reshape(train_images.shape[0], -1)\n",
    "X_test = test_images.reshape(test_images.shape[0], -1)\n",
    "\n",
    "# Adicionar uma coluna de 1s para considerar o termo de bias (intercept) no modelo linear\n",
    "X_train = np.column_stack((X_train, np.ones(X_train.shape[0])))\n",
    "X_test = np.column_stack((X_test, np.ones(X_test.shape[0])))\n",
    "\n",
    "y_train = one_hot_convert(train_labels).reshape(train_labels.shape[0], -1)\n",
    "y_test = test_labels.reshape(test_labels.shape[0], -1)\n",
    "\n",
    "print(X_train.shape, y_train.shape)\n",
    "print(X_test.shape, y_test.shape)"
   ]
  },
  {
   "cell_type": "code",
   "execution_count": 18,
   "id": "c41358c1-8995-4aba-8234-a5c9b1583a26",
   "metadata": {},
   "outputs": [],
   "source": [
    "pca = PCA(n_components=100)\n",
    "train_images = pca.fit_transform(train_images)\n",
    "test_images = pca.transform(test_images)"
   ]
  },
  {
   "cell_type": "code",
   "execution_count": 23,
   "id": "7ac99955-4edb-46c2-ab1b-00259bb90f46",
   "metadata": {},
   "outputs": [],
   "source": [
    "regress = LinearRegression()\n",
    "modelo = OneVsRestClassifier(regress)\n"
   ]
  },
  {
   "cell_type": "code",
   "execution_count": 28,
   "id": "c2cc02d0-e38a-4ad8-8e18-ffd3cd982219",
   "metadata": {},
   "outputs": [
    {
     "name": "stdout",
     "output_type": "stream",
     "text": [
      "Acuracia: 86.18\n"
     ]
    }
   ],
   "source": [
    "modelo.fit(train_images, train_labels)  # Treinamento do modelo\n",
    "\n",
    "# Fazendo previsões\n",
    "pred = modelo.predict(test_images)  # Fazendo previsões nos dados de teste\n",
    "\n",
    "# Calculando a acurácia\n",
    "acuracia = accuracy_score(test_labels, pred)  # Comparando as previsões com os valores reais\n",
    "\n",
    "# Calculando o total de erros positivos\n",
    "erros_positivos = np.sum((test_labels == 1) & (pred != 1))\n",
    "\n",
    "# Calculando o total de previsões corretas\n",
    "acertos = np.sum(test_labels == pred)\n",
    "\n",
    "# Calculando o total de verdadeiros positivos\n",
    "acertos_positivos = np.sum((test_labels == 1) & (pred == 1))\n",
    "\n",
    "# Imprimindo os resultados\n",
    "print('Acuracia:', acuracia * 100)"
   ]
  }
 ],
 "metadata": {
  "kernelspec": {
   "display_name": "Python 3",
   "language": "python",
   "name": "python3"
  },
  "language_info": {
   "codemirror_mode": {
    "name": "ipython",
    "version": 3
   },
   "file_extension": ".py",
   "mimetype": "text/x-python",
   "name": "python",
   "nbconvert_exporter": "python",
   "pygments_lexer": "ipython3",
   "version": "3.8.2"
  }
 },
 "nbformat": 4,
 "nbformat_minor": 5
}
