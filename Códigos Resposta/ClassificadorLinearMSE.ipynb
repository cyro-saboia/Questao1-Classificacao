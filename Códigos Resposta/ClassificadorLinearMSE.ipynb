{
 "cells": [
  {
   "cell_type": "code",
   "execution_count": 1,
   "id": "42c85405-cb98-40e7-905a-a4ee0dc9a38e",
   "metadata": {},
   "outputs": [],
   "source": [
    "import numpy as np\n"
   ]
  },
  {
   "cell_type": "code",
   "execution_count": 2,
   "id": "f2173604-7e9b-46ca-a654-1f887ba759d3",
   "metadata": {},
   "outputs": [],
   "source": [
    "# Função para carregar o conjunto de dados MNIST\n",
    "def load_mnist(image_file, label_file):\n",
    "    with open(label_file, 'rb') as lbpath:\n",
    "        lbpath.read(8)\n",
    "        labels = np.frombuffer(lbpath.read(), dtype=np.uint8)\n",
    "\n",
    "    with open(image_file, 'rb') as imgpath:\n",
    "        imgpath.read(16)\n",
    "        images = np.frombuffer(imgpath.read(), dtype=np.uint8).reshape(len(labels), 784)\n",
    "\n",
    "    return images, labels"
   ]
  },
  {
   "cell_type": "code",
   "execution_count": 4,
   "id": "c80b9e22-cd30-4f57-a17d-163331cb2ac5",
   "metadata": {},
   "outputs": [],
   "source": [
    "# LEITURA DOS DADOS\n",
    "train_images, train_labels = load_mnist('dataset/train-images.idx3-ubyte', 'dataset/train-labels.idx1-ubyte')\n",
    "test_images, test_labels = load_mnist('dataset/t10k-images.idx3-ubyte', 'dataset/t10k-labels.idx1-ubyte')\n",
    "\n",
    "# print('ORIGINAL')\n",
    "# print('train_images',train_images.shape)\n",
    "# print('train_labels',train_labels.shape)\n",
    "# print('test_images',test_images.shape)\n",
    "# print('test_labels',test_labels.shape)"
   ]
  },
  {
   "cell_type": "code",
   "execution_count": 5,
   "id": "e649f15b-b57d-4158-a062-52b09eb8293b",
   "metadata": {},
   "outputs": [],
   "source": [
    "Xtr = train_images.T\n",
    "Dtr = np.eye(10)[train_labels].T\n",
    "\n",
    "Xts = test_images.T\n",
    "Dts = np.eye(10)[test_labels].T\n",
    "\n",
    "# print('ONEHOT')\n",
    "# print('Xtr',Xtr.shape)\n",
    "# print('Dtr',Dtr.shape)\n",
    "# print('Xts',Xts.shape)\n",
    "# print('Dts',Dts.shape)"
   ]
  },
  {
   "cell_type": "code",
   "execution_count": 6,
   "id": "965a422c-f7c3-43ca-b213-38fe82ed2c56",
   "metadata": {},
   "outputs": [],
   "source": [
    "# Parametros do classificador\n",
    "Xtr = np.vstack((-np.ones((1, Xtr.shape[1])), Xtr))  # Adiciona uma linha de -1's\n",
    "Xts = np.vstack((-np.ones((1, Xts.shape[1])), Xts))  # Adiciona uma linha de -1's\n",
    "\n",
    "# print('BIAS')\n",
    "# print('Xtr',Xtr.shape)\n",
    "# print('Xts',Xts.shape)\n",
    "\n",
    "# print('Xtr',Xtr.shape)\n",
    "# print('Dtr',Dtr.shape)\n",
    "# print('Xts',Xts.shape)\n",
    "# print('Dts',Dts.shape)"
   ]
  },
  {
   "cell_type": "code",
   "execution_count": 7,
   "id": "ad478c43-7ebd-4627-85be-75864e50de64",
   "metadata": {},
   "outputs": [],
   "source": [
    "# Calcular pesos\n",
    "W = np.dot(Dtr, np.dot(Xtr.T, np.linalg.pinv(np.dot(Xtr, Xtr.T))))\n",
    "\n",
    "# # Predição\n",
    "Ypred = np.dot(W, Xts)  # Saida como numeros reais\n",
    "Ypred_q = np.argmax(Ypred, axis=0)  # Encontrar a classe predita com maior valor\n",
    "\n",
    "# # print(np.argmax(Dts, axis=0)[:10])\n",
    "# # print(Ypred_q[:10])"
   ]
  },
  {
   "cell_type": "code",
   "execution_count": 8,
   "id": "92079af4-4039-4a24-af4b-aa677e6f4aa1",
   "metadata": {},
   "outputs": [],
   "source": [
    "# # Taxas de acerto/erro\n",
    "Resultados = np.vstack((np.argmax(Dts, axis=0), Ypred_q))  # Saida desejada e predita lado-a-lado\n",
    "Resultados = Resultados.T  # Transpor a matriz Resultados\n",
    "Erros = Resultados[:, 0] - Resultados[:, 1]  # Coluna 1 - Coluna 2\n",
    "\n",
    "Nerros_pos = len(np.where(Erros > 0)[0])\n",
    "Nerros_neg = len(np.where(Erros < 0)[0])\n",
    "Nacertos = Xts.shape[1] - (Nerros_pos + Nerros_neg)\n",
    "\n",
    "Perros_pos = 100 * Nerros_pos / Xts.shape[1]\n",
    "Perros_neg = 100 * Nerros_neg / Xts.shape[1]\n",
    "Pacertos = 100 * Nacertos / Xts.shape[1]"
   ]
  },
  {
   "cell_type": "code",
   "execution_count": 9,
   "id": "287a66a4-e9d0-4d78-877a-3b3e6d99e89a",
   "metadata": {},
   "outputs": [
    {
     "name": "stdout",
     "output_type": "stream",
     "text": [
      "Nerros_pos: 858\n",
      "Nerros_neg: 539\n",
      "Nacertos: 8603\n",
      "Perros_pos: 8.58\n",
      "Perros_neg: 5.39\n",
      "Pacertos: 86.03\n",
      "Acurácia: 0.8603\n"
     ]
    }
   ],
   "source": [
    "print(\"Nerros_pos:\", Nerros_pos)\n",
    "print(\"Nerros_neg:\", Nerros_neg)\n",
    "print(\"Nacertos:\", Nacertos)\n",
    "print(\"Perros_pos:\", Perros_pos)\n",
    "print(\"Perros_neg:\", Perros_neg)\n",
    "print(\"Pacertos:\", Pacertos)\n",
    "\n",
    "\n",
    "# Calcular a acurácia\n",
    "accuracy = np.mean(Ypred_q == test_labels)\n",
    "\n",
    "# Imprimir a acurácia\n",
    "print(\"Acurácia:\", accuracy)"
   ]
  }
 ],
 "metadata": {
  "kernelspec": {
   "display_name": "Python 3",
   "language": "python",
   "name": "python3"
  },
  "language_info": {
   "codemirror_mode": {
    "name": "ipython",
    "version": 3
   },
   "file_extension": ".py",
   "mimetype": "text/x-python",
   "name": "python",
   "nbconvert_exporter": "python",
   "pygments_lexer": "ipython3",
   "version": "3.8.2"
  }
 },
 "nbformat": 4,
 "nbformat_minor": 5
}
